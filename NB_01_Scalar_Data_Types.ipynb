{
  "nbformat": 4,
  "nbformat_minor": 0,
  "metadata": {
    "colab": {
      "name": "NB_01_Scalar_Data_Types.ipynb",
      "provenance": [],
      "collapsed_sections": [],
      "include_colab_link": true
    },
    "kernelspec": {
      "name": "python3",
      "display_name": "Python 3"
    },
    "language_info": {
      "name": "python"
    }
  },
  "cells": [
    {
      "cell_type": "markdown",
      "metadata": {
        "id": "view-in-github",
        "colab_type": "text"
      },
      "source": [
        "<a href=\"https://colab.research.google.com/github/priyankavunnam224/FlightBooking/blob/master/NB_01_Scalar_Data_Types.ipynb\" target=\"_parent\"><img src=\"https://colab.research.google.com/assets/colab-badge.svg\" alt=\"Open In Colab\"/></a>"
      ]
    },
    {
      "cell_type": "markdown",
      "source": [
        "## Practice Notebook:"
      ],
      "metadata": {
        "id": "IflWtXgiIa4D"
      }
    },
    {
      "cell_type": "markdown",
      "source": [
        "## Scalar Data Types and Operations\n",
        "Python has four scalar data types:\n",
        "  * Integer\n",
        "  * Float\n",
        "  * Boolean\n",
        "  * Complex"
      ],
      "metadata": {
        "id": "QIhtW_lUImE1"
      }
    },
    {
      "cell_type": "markdown",
      "source": [
        "#### Integers"
      ],
      "metadata": {
        "id": "xeFGxMdWIyvb"
      }
    },
    {
      "cell_type": "markdown",
      "source": [
        "Perform [arithmetic operations](https://realpython.com/python-operators-expressions/#arithmetic-operators): \n",
        "* (+) for addition \n",
        "* (-) for subtraction \n",
        "* (*) for multiplication\n",
        "* (/) for floating divide\n",
        "* (//) for integer divide\n",
        "* (**) for exponential "
      ],
      "metadata": {
        "id": "9QwUuqFlLGck"
      }
    },
    {
      "cell_type": "markdown",
      "source": [
        "Print sum of 8 and 3"
      ],
      "metadata": {
        "id": "sKR3O1XKLqPj"
      }
    },
    {
      "cell_type": "code",
      "execution_count": null,
      "metadata": {
        "id": "Aub9rVLnalky"
      },
      "outputs": [],
      "source": [
        "# YOUR CODE HERE"
      ]
    },
    {
      "cell_type": "markdown",
      "source": [
        "Print the subtraction of smaller positive integer from larger positive integer:\n",
        "\n",
        "\n",
        "Eg: 8 - 2 "
      ],
      "metadata": {
        "id": "4a8-MNF5MGC4"
      }
    },
    {
      "cell_type": "code",
      "source": [
        "# YOUR CODE HERE"
      ],
      "metadata": {
        "id": "31CnBPdXMAL7"
      },
      "execution_count": null,
      "outputs": []
    },
    {
      "cell_type": "markdown",
      "source": [
        "Print the subtraction of a larger positive integer from a smaller positive integer:\n",
        "\n",
        "\n",
        "Eg: 2 - 8 "
      ],
      "metadata": {
        "id": "3AR3_-baMaBM"
      }
    },
    {
      "cell_type": "code",
      "source": [
        "# YOUR CODE HERE"
      ],
      "metadata": {
        "id": "WtXbFwz4MWug"
      },
      "execution_count": null,
      "outputs": []
    },
    {
      "cell_type": "markdown",
      "source": [
        "Print multiplication of any two positive integers."
      ],
      "metadata": {
        "id": "ClUMN3yoNtEK"
      }
    },
    {
      "cell_type": "code",
      "source": [
        "# YOUR CODE HERE"
      ],
      "metadata": {
        "id": "G20668Y2MlB5"
      },
      "execution_count": null,
      "outputs": []
    },
    {
      "cell_type": "markdown",
      "source": [
        "Print multiplication of any two negative integers."
      ],
      "metadata": {
        "id": "TC-xJ13WOY0S"
      }
    },
    {
      "cell_type": "code",
      "source": [
        "# YOUR CODE HERE"
      ],
      "metadata": {
        "id": "z4aQPlvmOU9V"
      },
      "execution_count": null,
      "outputs": []
    },
    {
      "cell_type": "markdown",
      "source": [
        "Print division of 18 by 3 such that the result is a float value."
      ],
      "metadata": {
        "id": "IlRhwMY_Ok7g"
      }
    },
    {
      "cell_type": "code",
      "source": [
        "# YOUR CODE HERE"
      ],
      "metadata": {
        "id": "Q7rmI0y0OdbP"
      },
      "execution_count": null,
      "outputs": []
    },
    {
      "cell_type": "markdown",
      "source": [
        "Print division of 18 by 3 such that the result is an integer value."
      ],
      "metadata": {
        "id": "2xS550v2O-KM"
      }
    },
    {
      "cell_type": "code",
      "source": [
        "# YOUR CODE HERE"
      ],
      "metadata": {
        "id": "8TVOAx7VO5BC"
      },
      "execution_count": null,
      "outputs": []
    },
    {
      "cell_type": "markdown",
      "source": [
        "Print Modulus of 18 and 5"
      ],
      "metadata": {
        "id": "D1K1HleBPOEB"
      }
    },
    {
      "cell_type": "code",
      "source": [
        "# YOUR CODE HERE"
      ],
      "metadata": {
        "id": "9Pp2YcXxPEQS"
      },
      "execution_count": null,
      "outputs": []
    },
    {
      "cell_type": "markdown",
      "source": [
        "Print a solution for 18 raised to the power of 5."
      ],
      "metadata": {
        "id": "4vyO6zjsPn9H"
      }
    },
    {
      "cell_type": "code",
      "source": [
        "# YOUR CODE HERE"
      ],
      "metadata": {
        "id": "r3MWlGT-PUFR"
      },
      "execution_count": null,
      "outputs": []
    },
    {
      "cell_type": "markdown",
      "source": [
        "Verify and print that Python follows usual [operator precedence rules](https://realpython.com/python-operators-expressions/#operator-precedence)."
      ],
      "metadata": {
        "id": "FwGcjThnQL13"
      }
    },
    {
      "cell_type": "code",
      "source": [
        "# YOUR CODE HERE"
      ],
      "metadata": {
        "id": "OPHKF7HpPxdH"
      },
      "execution_count": null,
      "outputs": []
    },
    {
      "cell_type": "markdown",
      "source": [
        "Demonstrate how parentheses can be used in Python to override the usual operator precedence rules."
      ],
      "metadata": {
        "id": "0vSnewDgQdJU"
      }
    },
    {
      "cell_type": "code",
      "source": [
        "# YOUR CODE HERE"
      ],
      "metadata": {
        "id": "9v50Cm1OQY_y"
      },
      "execution_count": null,
      "outputs": []
    },
    {
      "cell_type": "markdown",
      "source": [
        "Verify that integers are not limited to any upper limit in python"
      ],
      "metadata": {
        "id": "HGwcThtMQ9zI"
      }
    },
    {
      "cell_type": "code",
      "source": [
        "a = 9999999999999 \n",
        "b = a ** 2\n",
        "# YOUR CODE HERE"
      ],
      "metadata": {
        "id": "opHbiio2Q5wv"
      },
      "execution_count": null,
      "outputs": []
    },
    {
      "cell_type": "markdown",
      "source": [
        "##### Assignment operators"
      ],
      "metadata": {
        "id": "JsDdczRWRhsv"
      }
    },
    {
      "cell_type": "markdown",
      "source": [
        "Assign two integer values to two variables. Demonstrate shorthand for $\\alpha = \\alpha \\odot \\beta$\n",
        "where $\\odot$ is any binary arithmetic operator."
      ],
      "metadata": {
        "id": "8ofnwcohSxZO"
      }
    },
    {
      "cell_type": "code",
      "source": [
        "# Assigning values to variables.\n",
        "alpha = 21\n",
        "beta = 52"
      ],
      "metadata": {
        "id": "6LaIUfohTgBa"
      },
      "execution_count": null,
      "outputs": []
    },
    {
      "cell_type": "code",
      "source": [
        "# For Addition\n",
        "\n",
        "# Usual Notation\n",
        "alpha = alpha + beta\n",
        "print(alpha, beta)\n",
        "\n",
        "# Shorthand Notation\n",
        "# YOUR CODE HERE"
      ],
      "metadata": {
        "id": "p05Ij6xbRSHa"
      },
      "execution_count": null,
      "outputs": []
    },
    {
      "cell_type": "code",
      "source": [
        "# For Subtraction\n",
        "\n",
        "# Usual Notation\n",
        "# YOUR CODE HERE\n",
        "\n",
        "# Shorthand Notation\n",
        "# YOUR CODE HERE"
      ],
      "metadata": {
        "id": "UFGzQ3DyTcHJ"
      },
      "execution_count": null,
      "outputs": []
    },
    {
      "cell_type": "code",
      "source": [
        "# For Multiplication\n",
        "\n",
        "# Usual Notation\n",
        "alpha = alpha * beta\n",
        "print(alpha, beta)\n",
        "\n",
        "# Shorthand Notation\n",
        "# YOUR CODE HERE"
      ],
      "metadata": {
        "id": "IT-lXUE8WeSb"
      },
      "execution_count": null,
      "outputs": []
    },
    {
      "cell_type": "markdown",
      "source": [
        "#### Boolean"
      ],
      "metadata": {
        "id": "92_hm5qEWtUO"
      }
    },
    {
      "cell_type": "markdown",
      "source": [
        "Given that alpha = 20 and beta = 33"
      ],
      "metadata": {
        "id": "lpDsi5AKW9Y8"
      }
    },
    {
      "cell_type": "markdown",
      "source": [
        "Write a boolean operator statement to check whether alpha is equal to beta"
      ],
      "metadata": {
        "id": "alwy0JLBXDRm"
      }
    },
    {
      "cell_type": "code",
      "source": [
        "alpha = 20\n",
        "beta = 33"
      ],
      "metadata": {
        "id": "xlPY5j2qXPZf"
      },
      "execution_count": null,
      "outputs": []
    },
    {
      "cell_type": "code",
      "source": [
        "# YOUR CODE HERE"
      ],
      "metadata": {
        "id": "TZwukpm_XMOb"
      },
      "execution_count": null,
      "outputs": []
    },
    {
      "cell_type": "markdown",
      "source": [
        "Write a boolean operator statement to check whether alpha is equal to beta - 4"
      ],
      "metadata": {
        "id": "JliUZJD8Xk7X"
      }
    },
    {
      "cell_type": "code",
      "source": [
        "# YOUR CODE HERE"
      ],
      "metadata": {
        "id": "w6fIOjcbXov1"
      },
      "execution_count": null,
      "outputs": []
    },
    {
      "cell_type": "markdown",
      "source": [
        "Write a boolean operator statement to check whether alpha is greater than beta"
      ],
      "metadata": {
        "id": "jb3xdwNoXtgj"
      }
    },
    {
      "cell_type": "code",
      "source": [
        "# YOUR CODE HERE"
      ],
      "metadata": {
        "id": "xqfyEI47Xz0t"
      },
      "execution_count": null,
      "outputs": []
    },
    {
      "cell_type": "markdown",
      "source": [
        "Write a boolean operator statement to check whether alpha is less than or equal to beta"
      ],
      "metadata": {
        "id": "kY79uhPSX4uL"
      }
    },
    {
      "cell_type": "code",
      "source": [
        "# YOUR CODE HERE"
      ],
      "metadata": {
        "id": "7mwMEDgoX-BO"
      },
      "execution_count": null,
      "outputs": []
    },
    {
      "cell_type": "markdown",
      "source": [
        "Write a boolean operator statement to check whether alpha is not equal to beta - 13"
      ],
      "metadata": {
        "id": "wADtkBAJYJD-"
      }
    },
    {
      "cell_type": "code",
      "source": [
        "# YOUR CODE HERE"
      ],
      "metadata": {
        "id": "4jujfdVYYRUG"
      },
      "execution_count": null,
      "outputs": []
    },
    {
      "cell_type": "markdown",
      "source": [
        "#### Float"
      ],
      "metadata": {
        "id": "NBrjmXxhYoY7"
      }
    },
    {
      "cell_type": "markdown",
      "source": [
        "Perform and print Addition, Subtraction, Multiplication, Division of two floating point values."
      ],
      "metadata": {
        "id": "ehTSvfSQaXgX"
      }
    },
    {
      "cell_type": "code",
      "source": [
        "alpha = 14.9\n",
        "beta = 25.9"
      ],
      "metadata": {
        "id": "QkRrkzlnYiXd"
      },
      "execution_count": null,
      "outputs": []
    },
    {
      "cell_type": "code",
      "source": [
        "sum = # YOUR CODE HERE\n",
        "subtraction = # YOUR CODE HERE\n",
        "multiplication = # YOUR CODE HERE\n",
        "division = # YOUR CODE HERE"
      ],
      "metadata": {
        "id": "fzTGhlKqa2xA"
      },
      "execution_count": null,
      "outputs": []
    },
    {
      "cell_type": "code",
      "source": [
        "print(# YOUR CODE HERE)"
      ],
      "metadata": {
        "id": "DCq5R8PjbV9J"
      },
      "execution_count": null,
      "outputs": []
    },
    {
      "cell_type": "markdown",
      "source": [
        "#### Complex"
      ],
      "metadata": {
        "id": "bduCtvCIcI4s"
      }
    },
    {
      "cell_type": "markdown",
      "source": [
        "Print imaginary and real part of a complex number, initialized in z variable."
      ],
      "metadata": {
        "id": "2-xbGs3Gd7wK"
      }
    },
    {
      "cell_type": "code",
      "source": [
        "z = 3 + 6j"
      ],
      "metadata": {
        "id": "dCTinFyVb-rF"
      },
      "execution_count": null,
      "outputs": []
    },
    {
      "cell_type": "code",
      "source": [
        "# YOUR CODE HERE"
      ],
      "metadata": {
        "id": "fhY-bARmeMue"
      },
      "execution_count": null,
      "outputs": []
    },
    {
      "cell_type": "markdown",
      "source": [
        "Calculate absolute value of the above initialized z"
      ],
      "metadata": {
        "id": "SCwczvi7eaZD"
      }
    },
    {
      "cell_type": "code",
      "source": [
        "# YOUR CODE HERE"
      ],
      "metadata": {
        "id": "BF4vbXmneZIN"
      },
      "execution_count": null,
      "outputs": []
    },
    {
      "cell_type": "markdown",
      "source": [
        "# Problem Solving"
      ],
      "metadata": {
        "id": "AOC6DGa0o5bN"
      }
    },
    {
      "cell_type": "markdown",
      "source": [
        "Write a Python program to calculate the amount payable if money has been lent on simple interest.\n",
        "\n",
        "Principal = P, Rate of interest = R% per annum and Time = T years. \n",
        "\n",
        "Simple Interest (SI) = (P x R x T)/ 100.\n",
        "\n",
        "Amount payable = Principal + SI. \n",
        "\n",
        "P, R and T are given as input to the program."
      ],
      "metadata": {
        "id": "AIwZ45bTn7yi"
      }
    },
    {
      "cell_type": "code",
      "source": [
        "#Seek user input for Principal, Rate of interest and Time\n",
        "P = float(input('Enter the principal: '))\n",
        "R = # YOUR CODE HERE\n",
        "T = # YOUR CODE HERE\n",
        "#calculating simple interest\n",
        "# YOUR CODE HERE\n",
        "#Amount payable = Principal + Simple Interest\n",
        "# YOUR CODE HERE\n",
        "#Printing the total amount\n",
        "# YOUR CODE HERE"
      ],
      "metadata": {
        "id": "YPE9I1wen-9k"
      },
      "execution_count": null,
      "outputs": []
    },
    {
      "cell_type": "markdown",
      "source": [
        "For more Exercises, refer to: https://docs.python-guide.org/intro/learning/"
      ],
      "metadata": {
        "id": "7ZXRLhofrOay"
      }
    }
  ]
}